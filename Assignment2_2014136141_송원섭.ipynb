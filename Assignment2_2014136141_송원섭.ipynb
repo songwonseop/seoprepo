{
 "cells": [
  {
   "cell_type": "markdown",
   "metadata": {},
   "source": [
    "<h2>Assignment 2 </h>"
   ]
  },
  {
   "cell_type": "markdown",
   "metadata": {},
   "source": [
    "문제1<br>-다음 6개의 Expression 에 대해 Evaluation 결과 값을 출력하고, 해당 결과가 나온 이유를\n",
    "에 대해 설명하시오 "
   ]
  },
  {
   "cell_type": "code",
   "execution_count": 1,
   "metadata": {},
   "outputs": [
    {
     "name": "stdout",
     "output_type": "stream",
     "text": [
      "4\n"
     ]
    }
   ],
   "source": [
    "print(1 and 2 and 3 and 4)"
   ]
  },
  {
   "cell_type": "markdown",
   "metadata": {},
   "source": [
    "and 연산은 왼쪽부터 시작해 거짓인 '0'을 찾아 낸다 거짓이 없을 경우 왼쪽 부터 연산해 나아가 오른쪽에 있는 값을 반환"
   ]
  },
  {
   "cell_type": "code",
   "execution_count": 37,
   "metadata": {},
   "outputs": [
    {
     "name": "stdout",
     "output_type": "stream",
     "text": [
      "10\n"
     ]
    }
   ],
   "source": [
    "print(1 or 2 or 3 or 4)"
   ]
  },
  {
   "cell_type": "markdown",
   "metadata": {},
   "source": [
    "or 연산자도 왼쪽부터 연산 한쪽이 참이면 참인데 양 쪽 모두 참일시 연산자의 왼쪽 값 반영  "
   ]
  },
  {
   "cell_type": "code",
   "execution_count": 3,
   "metadata": {},
   "outputs": [
    {
     "name": "stdout",
     "output_type": "stream",
     "text": [
      "2\n"
     ]
    }
   ],
   "source": [
    "print(1 and 2 or 3 and 4)"
   ]
  },
  {
   "cell_type": "markdown",
   "metadata": {},
   "source": [
    "연산 우선순위가 and가 or보다 높다 그래서 and가 먼저 연산된다. "
   ]
  },
  {
   "cell_type": "code",
   "execution_count": 4,
   "metadata": {},
   "outputs": [
    {
     "name": "stdout",
     "output_type": "stream",
     "text": [
      "2\n"
     ]
    }
   ],
   "source": [
    "print((1 and 2) or (3 and 4))"
   ]
  },
  {
   "cell_type": "markdown",
   "metadata": {},
   "source": [
    "괄호부터 먼저 연산한다"
   ]
  },
  {
   "cell_type": "code",
   "execution_count": 5,
   "metadata": {},
   "outputs": [
    {
     "name": "stdout",
     "output_type": "stream",
     "text": [
      "1\n"
     ]
    }
   ],
   "source": [
    "print(1 or 2 and 3 or 4)"
   ]
  },
  {
   "cell_type": "markdown",
   "metadata": {},
   "source": [
    "and연산 우선순위가 높아 2and3 부터 연산 "
   ]
  },
  {
   "cell_type": "code",
   "execution_count": 6,
   "metadata": {},
   "outputs": [
    {
     "name": "stdout",
     "output_type": "stream",
     "text": [
      "3\n"
     ]
    }
   ],
   "source": [
    "print((1 or 2) and (3 or 4))"
   ]
  },
  {
   "cell_type": "markdown",
   "metadata": {},
   "source": [
    "연산우선 순위가 and가 더 높지만 괄호가 더 높아 양쪽 or부터 연산 후 and 연산 "
   ]
  },
  {
   "cell_type": "markdown",
   "metadata": {},
   "source": [
    "<hr>\n",
    "문제 2<br>\n",
    "-경로에 해당하는 문자열 1개를 입력 받아 그 안에 디렉토리 경로명과 파일명을 분리하여 리스트로 반환하는 함수 div_path(s)를 작성하시오.\n",
    "인자로 전달하는 문자열은 경로만 들어간다고 가정한다.\n",
    "각 디렉토리와 파일을 구분하는 문자는 '/'로 가정한다.\n",
    "반환하는 리스트의 첫번째 원소는 디렉토리이고 두번째 원소는 파일명이다.\n",
    "다음과 같은 실행 및 출력 결과가 도출되어야 한다."
   ]
  },
  {
   "cell_type": "code",
   "execution_count": 6,
   "metadata": {},
   "outputs": [
    {
     "name": "stdout",
     "output_type": "stream",
     "text": [
      "파일주소입력:/usr/local/bin/python\n",
      "['/usr/local/bin', 'python']\n",
      "파일주소입력:/home/chulsoo/test.txt\n",
      "['/home/chulsoo', 'test.txt']\n"
     ]
    }
   ],
   "source": [
    "def div_path(a):\n",
    "    indexnum=0\n",
    "    num=0\n",
    "    x=0\n",
    "    length=len(a)\n",
    "    for x in a:\n",
    "        if x=='/':\n",
    "            num=indexnum\n",
    "        indexnum=indexnum+1 # num 이 while 문이 끝나면 마지막 백슬래시 인덱스를 갖는다. \n",
    "    return [ a[:num], a[num+1:] ]\n",
    "\n",
    "d=input(\"파일주소입력:\")\n",
    "print(div_path(d))\n",
    "d=input(\"파일주소입력:\")\n",
    "print(div_path(d))"
   ]
  },
  {
   "cell_type": "markdown",
   "metadata": {
    "collapsed": true
   },
   "source": [
    "[설명]<br>\n",
    "파일경로를 입력받고, 함수의 인자로 문자열을 넘겨준 뒤에 반복문과 카운트 변수를 이용해 마지막 /의 인덱스를 알아내고\n",
    "마지막 /를 기준으로 왼쪽 까지는 디렉토리 오른쪽은 파일명으로 나눠 반환하는 함수를 작성하였다. "
   ]
  },
  {
   "cell_type": "markdown",
   "metadata": {
    "collapsed": true
   },
   "source": [
    "<hr>\n",
    "문제3 <br>\n",
    "두 개의 리스트를 인자로 받아서 그 두 개의 리스트에 대한 '합집합'을 반환하는 함수 list_union(lista, listb)를 작성하시오. \n",
    "<br>\n"
   ]
  },
  {
   "cell_type": "code",
   "execution_count": 1,
   "metadata": {
    "collapsed": true
   },
   "outputs": [],
   "source": [
    "def list_union():\n",
    "    \n",
    "    return []\n"
   ]
  },
  {
   "cell_type": "code",
   "execution_count": 5,
   "metadata": {},
   "outputs": [
    {
     "name": "stdout",
     "output_type": "stream",
     "text": [
      "첫 리스트 원소 세개 입력:1\n",
      "첫 리스트 원소 세개 입력:2\n",
      "첫 리스트 원소 세개 입력:3\n",
      "둘째 리스트 원소 세개 입력:2\n",
      "둘째 리스트 원소 세개 입력:4\n",
      "둘째 리스트 원소 세개 입력:5\n",
      " \n",
      "original List\n",
      "['1', '2', '3'] ['2', '4', '5']\n",
      "\n",
      "converted List\n",
      "['1', '2', '3', '4', '5']\n"
     ]
    }
   ],
   "source": [
    "lista=['','','']\n",
    "listb=['','','']\n",
    "for x in range(0,3):\n",
    "    a=input(\"첫 리스트 원소 세개 입력:\")\n",
    "    lista[x]=a\n",
    "\n",
    "for x in range(0,3):\n",
    "    b=input(\"둘째 리스트 원소 세개 입력:\")\n",
    "    listb[x]=b\n",
    "print(\" \\noriginal List\")\n",
    "print(lista, listb)\n",
    "list3=[]\n",
    "def list_union(g,h):\n",
    "    for x in range(0,3):\n",
    "        for y in range(0,3):\n",
    "            if(g[x]==h[y]):\n",
    "                list3.append(g.index(g[x]))\n",
    "    \n",
    "    j=len(list3)\n",
    "    if(not list3):\n",
    "        print(\"nothing\")\n",
    "    else:\n",
    "        for u in range(0,j):\n",
    "            g.remove(g[list3[u]])\n",
    "    \n",
    "    p=g+h\n",
    "    p.sort()\n",
    "    return p\n",
    "\n",
    "print(\"\\nconverted List\")\n",
    "print(list_union(lista, listb))"
   ]
  },
  {
   "cell_type": "markdown",
   "metadata": {},
   "source": [
    "두 정수 리스트이 합집합 구하기, 처음에는 리스트를 두개로 만들어 값을 비교해 중복이 있으면 첫 리스트에서 값을 삭제하고 \n",
    "그 다음 작업이 끝나면 병합을 해보았고, 두번 째에는 처음에 두 리스트를 병합해 원소내에 중복값을 찾고 출력 하도록 작성하였다."
   ]
  },
  {
   "cell_type": "markdown",
   "metadata": {},
   "source": [
    "<hr>\n",
    "문제4"
   ]
  },
  {
   "cell_type": "code",
   "execution_count": null,
   "metadata": {
    "collapsed": true
   },
   "outputs": [],
   "source": [
    "from urllib import request\n",
    "url='http://cse.koreatech.ac.kr'\n",
    "f=request.urlopen(url)\n",
    "source_bytes=f.read()\n",
    "source=source_bytes.decode('utf-8')\n",
    "\n",
    "print(type(source_bytes))\n",
    "print(type(source))\n",
    "hey=source.split()\n",
    "\n",
    "x=0\n",
    "while x < len(hey):\n",
    "    a=hey.index('<')\n",
    "    b=hey.index('>')\n",
    "    while a<b:\n",
    "        hey.remove( hey[a] )\n",
    "    \n",
    "print(hey)"
   ]
  },
  {
   "cell_type": "markdown",
   "metadata": {},
   "source": [
    "str 형태로 가져온 웹스크립트를 list로 변형해 작업을 하려했으나, 조금 더 고찰이 필요 "
   ]
  },
  {
   "cell_type": "code",
   "execution_count": 15,
   "metadata": {},
   "outputs": [
    {
     "name": "stdout",
     "output_type": "stream",
     "text": [
      "<class 'bytes'>\n",
      "<class 'str'>\n",
      "['<!DOCTYPE', 'html>', '<html', 'lang=\"ko\">', '<head>', '<!--', 'META', '-->', '<meta', 'charset=\"utf-8\">', '<meta', 'name=\"Generator\"', 'content=\"XpressEngine\">', '<meta', 'http-equiv=\"X-UA-Compatible\"', 'content=\"IE=edge\">', '<!--', 'TITLE', '-->', '<title>컴퓨터공학부</title>', '<!--', 'CSS', '-->', '<link', 'rel=\"stylesheet\"', 'href=\"/common/css/xe.min.css?20170918124612\"', '/>', '<link', 'rel=\"stylesheet\"', 'href=\"/layouts/cse/style/prettyPhoto.css?20150805222706\"', '/>', '<link', 'rel=\"stylesheet\"', 'href=\"/layouts/cse/style/stylemobile.css?20150805222706\"', '/>', '<link', 'rel=\"stylesheet\"', 'href=\"/layouts/cse/style/mobilenavigation.css?20150805222706\"', '/>', '<link', 'rel=\"stylesheet\"', 'href=\"/modules/editor/styles/ckeditor_light/style.css?20170918124613\"', '/>', '<link', 'rel=\"stylesheet\"', 'href=\"/widgets/login_info/skins/cse_login_info_2015/default.login.css?20150420232234\"', '/>', '<link', 'rel=\"stylesheet\"', 'href=\"/widgets/content_cse/skins/cse_latest_2015/css/widget.css?20150625005943\"', '/>', '<link', 'rel=\"stylesheet\"', 'href=\"/addons/font_nanum_gothic/font-nanum_gothic.css?20150429141819\"', '/>', '<link', 'rel=\"stylesheet\"', 'href=\"/files/faceOff/664/070/layout.css?20160523173814\"', '/>', '<!--', 'JS', '-->', '<!--[if', 'lt', 'IE', '9]><script', 'src=\"/common/js/jquery-1.x.min.js?20170918124612\"></script>', '<![endif]--><!--[if', 'gte', 'IE', '9]><!--><script', 'src=\"/common/js/jquery.min.js?20170918124612\"></script>', '<!--<![endif]--><script', 'src=\"/common/js/x.min.js?20170918124612\"></script>', '<script', 'src=\"/common/js/xe.min.js?20170918124612\"></script>', '<script', 'src=\"/layouts/cse/script/modernizr.js?20150805222706\"></script>', '<script', 'src=\"/widgets/login_info/skins/cse_login_info_2015/default.login.js?20150420232234\"></script>', '<script', 'src=\"/widgets/content_cse/skins/cse_latest_2015/js/content_widget.js?20150422211442\"></script>', '<!--', 'RSS', '-->', '<link', 'rel=\"alternate\"', 'type=\"application/rss+xml\"', 'title=\"Site', 'RSS\"', 'href=\"https://cse.koreatech.ac.kr/rss\"', '/><link', 'rel=\"alternate\"', 'type=\"application/atom+xml\"', 'title=\"Site', 'Atom\"', 'href=\"https://cse.koreatech.ac.kr/atom\"', '/><!--', 'ICON', '-->', '<link', 'rel=\"shortcut', 'icon\"', 'href=\"https://cse.koreatech.ac.kr/files/attach/xeicon/favicon.ico\"', '/>', '<link', 'rel=\"canonical\"', 'href=\"https://cse.koreatech.ac.kr/\"', '/>', '<meta', 'property=\"og:locale\"', 'content=\"ko_KR\"', '/>', '<meta', 'property=\"og:type\"', 'content=\"website\"', '/>', '<meta', 'property=\"og:url\"', 'content=\"https://cse.koreatech.ac.kr/\"', '/>', '<meta', 'property=\"og:title\"', 'content=\"컴퓨터공학부\"', '/>', '<link', \"href='https://fonts.googleapis.com/css?family=Raleway:400,700,300,900'\", \"rel='stylesheet'\", \"type='text/css'\", '/>', '<link', \"href='https://fonts.googleapis.com/css?family=Nunito:400,300,700'\", \"rel='stylesheet'\", \"type='text/css'\", '/>', '<link', 'rel=\"stylesheet\"', 'href=\"//fonts.googleapis.com/earlyaccess/nanumgothic.css\"', '/>', '<meta', 'charset=\"utf-8\"', '/>', '<meta', 'name=\"viewport\"', 'content=\"width=device-width,', 'initial-scale=1.0\"', '/>', '<meta', 'name=\"description\"', 'content=\"Website', 'Description\"', '/>', '<meta', 'name=\"keywords\"', 'content=\"Website', 'Keywords\"', '/><script>', '//<![CDATA[', 'var', 'current_url', '=', '\"https://cse.koreatech.ac.kr/\";', 'var', 'request_uri', '=', '\"https://cse.koreatech.ac.kr/\";', 'var', 'current_mid', '=', '\"home_2015\";', 'var', 'waiting_message', '=', '\"서버에', '요청', '중입니다.', '잠시만', '기다려주세요.\";', 'var', 'ssl_actions', '=', 'new', 'Array();', 'var', 'default_url', '=', '\"https://cse.koreatech.ac.kr/\";', 'var', 'http_port', '=', '80;var', 'https_port', '=', '443;var', 'enforce_ssl', '=', 'true;xe.current_lang', '=', '\"ko\";', 'xe.cmd_find', '=', '\"찾기\";', 'xe.cmd_cancel', '=', '\"취소\";', 'xe.cmd_confirm', '=', '\"확인\";', 'xe.msg_no_root', '=', '\"루트는', '선택', '할', '수', '없습니다.\";', 'xe.msg_no_shortcut', '=', '\"바로가기는', '선택', '할', '수', '없습니다.\";', 'xe.msg_select_menu', '=', '\"대상', '메뉴', '선택\";', '//]]>', '</script>', '</head>', '<body>', '<!DOCTYPE', 'html>', '<html', 'lang=\"ko\">', '<head>', '<title>Schoolfun', '-', 'Study', 'and', 'Fun</title>', '<!--', '-->', '</head>', '<body', 'class=\"\">', '<header', 'id=\"main-header\"', 'class=\"clearfix\">', '<div', 'id=\"header-full\"', 'class=\"clearfix\">', '<div', 'id=\"header\"', 'class=\"clearfix\">', '<a', 'href=\"#nav\"', 'class=\"open-menu\">', '<span', 'class=\"icon-bar\"></span>', '<span', 'class=\"icon-bar\"></span>', '<span', 'class=\"icon-bar\"></span>', '</a>', '<a', 'href=\"https://cse.koreatech.ac.kr/\"', 'id=\"logo\"><img', 'src=\"/layouts/cse/images/cse_logo.png\"', 'data-retina=\"images/cse_logo.png\"', 'alt=\"School', 'Fun', '-', 'WordPress', 'Theme\"', '/></a>', '<aside', 'id=\"header-content\">', '<!--', '<form', 'method=\"post\"', 'action=\"#\"', 'id=\"searchform\"><input', 'type=\"hidden\"', 'name=\"error_return_url\"', 'value=\"/\"', '/><input', 'type=\"hidden\"', 'name=\"act\"', 'value=\"\"', '/><input', 'type=\"hidden\"', 'name=\"mid\"', 'value=\"home_2015\"', '/><input', 'type=\"hidden\"', 'name=\"vid\"', 'value=\"\"', '/>', '<div>', '</div>', '</form>', '-->', '<ul', 'id=\"nav-header\"', 'style=\"\">', '<li><div', 'class=\"xe-widget-wrapper', '\"', 'style=\"\"><div', 'style=\"*zoom:1;padding:0px', '0px', '0px', '0px', '!important;\"><form', 'id=\"fo_login_widget\"', 'action=\"https://cse.koreatech.ac.kr/index.php?act=procMemberLogin\"', 'method=\"post\"', 'class=\"account\"><input', 'type=\"hidden\"', 'name=\"error_return_url\"', 'value=\"/\"', '/><input', 'type=\"hidden\"', 'name=\"mid\"', 'value=\"home_2015\"', '/><input', 'type=\"hidden\"', 'name=\"vid\"', 'value=\"\"', '/><input', 'type=\"hidden\"', 'name=\"ruleset\"', 'value=\"@login\"', '/>', '<a', 'href=\"#acField\">로그인</a>', '<fieldset', 'id=\"acField\">', '<h2>로그인</h2>', '<input', 'type=\"hidden\"', 'name=\"act\"', 'value=\"procMemberLogin\"', '/>', '<input', 'type=\"hidden\"', 'name=\"success_return_url\"', 'value=\"/\"', '/>', '<input', 'type=\"hidden\"', 'name=\"xe_validator_id\"', 'value=\"widgets/login_info/skins/default/login_form/1\"', '/>', '<div', 'class=\"idpw\">', '<label', 'for=\"user_id\">아이디</label>', '<input', 'name=\"user_id\"', 'id=\"user_id\"', 'type=\"text\"', 'required', '/>', '<label', 'for=\"user_pw\">비밀번호</label>', '<input', 'name=\"password\"', 'id=\"user_pw\"', 'type=\"password\"', 'required', '/>', '<p', 'class=\"keep\">', '<input', 'type=\"checkbox\"', 'name=\"keep_signed\"', 'id=\"keep_signed\"', 'value=\"Y\"', '/>', '<label', 'for=\"keep_signed\">로그인', '유지</label>', '</p>', '<p', 'class=\"warning\">브라우저를', '닫더라도', '로그인이', '계속', '유지될', '수', '있습니다.', '로그인', '유지', '기능을', '사용할', '경우', '다음', '접속부터는', '로그인할', '필요가', '없습니다.', '단,', '게임방,', '학교', '등', '공공장소에서', '이용', '시', '개인정보가', '유출될', '수', '있으니', '꼭', '로그아웃을', '해주세요.</p>', '</div>', '<input', 'type=\"submit\"', 'value=\"로그인\"', '/>', '<ul', 'class=\"help\">', '<li><a', 'href=\"https://cse.koreatech.ac.kr/index.php?mid=home_2015&amp;act=dispMemberSignUpForm\">회원가입</a></li>', '<li><a', 'href=\"https://cse.koreatech.ac.kr/index.php?mid=home_2015&amp;act=dispMemberFindAccount\">ID/PW', '찾기</a></li>', '</ul>', '</fieldset>', '</form>', '</div></div></li>', '</ul>', '<h3', 'id=\"slogan\"', 'style=\"font-family:\\'Nanum', \"Gothic',\", 'serif\">IT', '교육의', '글로벌', '메카!<br/>한국기술교육대학교', '컴퓨터공학부</h3>', '</aside>', '</div>', '</div>', '<nav', 'id=\"nav\"', 'class=\"clearfix\">', '<a', 'href=\"#\"', 'class=\"close-menu-big\">Close</a>', '<div', 'id=\"nav-container\">', '<a', 'href=\"#\"', 'class=\"close-menu\">', '<span', 'class=\"icon-bar\"></span>', '<span', 'class=\"icon-bar\"></span>', '<span', 'class=\"icon-bar\"></span>', '</a>', '<ul', 'id=\"nav-main\">', '<li>', '<a', 'href=\"https://cse.koreatech.ac.kr/intro_home_2015\"', '>소개</a>', '</li>', '<li>', '<a', 'href=\"https://cse.koreatech.ac.kr/page_KbyV58\"', '>구성원소개</a>', '</li>', '<li>', '<a', 'href=\"https://cse.koreatech.ac.kr/page_izgw21\"', '>학사안내</a>', '</li>', '<li>', '<a', 'href=\"#\">입학</a>', '<ul>', '<li><a', 'href=\"http://www.koreatech.ac.kr/admission.do\"', 'target=\"_blank\">학부</a></li>', '<li><a', 'href=\"http://www.koreatech.ac.kr/grd/sub02_01_01_01.do\"', 'target=\"_blank\">대학원</a></li>', '</ul>', '</li>', '<li>', '<a', 'href=\"https://cse.koreatech.ac.kr/notice\"', '>학부광장</a>', '</li>', '<li>', '<a', 'href=\"https://cse.koreatech.ac.kr/pds\"', '>자료실</a>', '</li>', '<li>', '<a', 'href=\"https://cse.koreatech.ac.kr/page_birW64\"', '>대학원</a>', '</li>', '<li>', '<a', 'href=\"https://cse.koreatech.ac.kr/page_vBGH80\"', '>공학교육인증</a>', '</li>', '<li>', '<a', 'href=\"https://cse.koreatech.ac.kr/graduate\"', '>학부서비스</a>', '</li>', '</ul>', '<a', 'href=\"https://cse.koreatech.ac.kr/index.php?mid=home_2015&amp;act=dispMemberSignUpForm\"', 'id=\"button-registration\">Registration</a>', '</div>', '</nav>', '</header>', '<!--', 'main', 'image', 'tab', 'start', '-->', '<div', 'id=\"slideshow-tabs\"', 'class=\"ui-tabs', 'ui-widget', 'ui-widget-content', 'ui-corner-all\">', '<div', 'id=\"panel-tabs\"', 'class=\"clearfix\">', '<ul', 'class=\"nav-tabs-slideshow', 'ui-tabs-nav', 'ui-helper-reset', 'ui-helper-clearfix', 'ui-widget-header', 'ui-corner-all\"', 'role=\"tablist\">', '<li', 'class=\"ui-state-default', 'ui-corner-top', 'ui-tabs-active', 'ui-state-active\"', 'role=\"tab\"', 'tabindex=\"0\"', 'aria-controls=\"panel-1\"', 'aria-labelledby=\"ui-id-1\"', 'aria-selected=\"true\"><a', 'href=\"#panel-1\"', 'class=\"ui-tabs-anchor\"', 'role=\"presentation\"', 'tabindex=\"-1\"', 'id=\"ui-id-1\"><strong>컴퓨터공학부</strong><br>', '<span>School', 'of', 'Computer', 'Science', 'and', 'Engineering</span>', '</a>', '</li>', '<li', 'class=\"ui-state-default', 'ui-corner-top\"', 'role=\"tab\"', 'tabindex=\"-1\"', 'aria-controls=\"panel-2\"', 'aria-labelledby=\"ui-id-2\"', 'aria-selected=\"false\">', '<a', 'href=\"#panel-2\"', 'class=\"ui-tabs-anchor\"', 'role=\"presentation\"', 'tabindex=\"-1\"', 'id=\"ui-id-2\"><strong>IT', '융합소프트웨어', '인력양성사업</strong><br>', '<span>CK', '(Creative', 'Korea)-I</span>', '</a>', '</li>', '<li', 'class=\"ui-state-default', 'ui-corner-top\"', 'role=\"tab\"', 'tabindex=\"-1\"', 'aria-controls=\"panel-3\"', 'aria-labelledby=\"ui-id-3\"', 'aria-selected=\"false\">', '<a', 'href=\"#panel-3\"', 'class=\"ui-tabs-anchor\"', 'role=\"presentation\"', 'tabindex=\"-1\"', 'id=\"ui-id-3\"><strong>교육역량강화사업', '온라인', '컨텐츠</strong><br>', '<span>Online', 'Contents', 'for', 'Education', 'Capability', 'Empowerment</span>', '</a>', '</li>', '</ul>', '</div>', '<div', 'class=\"ui-tabs-panel', 'ui-widget-content', 'ui-corner-bottom\"', 'id=\"panel-1\"', 'style=\"background-image:', 'url(layouts/cse/images/kut1.png);', 'display:', 'block;', 'background-position:', '50%', '0px;', 'background-repeat:', 'no-repeat', 'no-repeat;\"', 'aria-labelledby=\"ui-id-1\"', 'role=\"tabpanel\"', 'aria-expanded=\"true\"', 'aria-hidden=\"false\">', '<div', 'class=\"tabs-blur', 'no-blur\"', 'style=\"background:url(http://placehold.it/2000x620)', 'no-repeat', '50%', '0\">', '</div>', '<div', 'class=\"tabs-container\">', '<article>', '<h2>IT', '교육의', '글로벌', '메카</h2>', '<p>한국기술교육대학교', '컴퓨터공학부', '홈페이지에', '오신', '것을<br/>환영합니다!</p>', '</article>', '</div>', '</div>', '<div', 'class=\"ui-tabs-panel', 'ui-widget-content', 'ui-corner-bottom\"', 'id=\"panel-2\"', 'style=\"background-image:', 'url(layouts/cse/images/kut2.png);', 'display:', 'none;', 'background-position:', '50%', '0px;', 'background-repeat:', 'no-repeat', 'no-repeat;\"', 'aria-labelledby=\"ui-id-2\"', 'role=\"tabpanel\"', 'aria-expanded=\"false\"', 'aria-hidden=\"true\">', '<div', 'class=\"tabs-blur', 'no-blur\"', 'style=\"background:url(http://placehold.it/2000x620)', 'no-repeat', '50%', '0\">', '</div>', '<div', 'class=\"tabs-container\">', '<article>', '<h2>IT', '융합소프트웨어', '인력양성사업</h2>', '<p>글로벌', '수준의', 'IT전문인력', '양성<br/>', 'IT융합분야에', '대한', '국제적인', '경쟁력', '고취</p>', '<a', 'href=\"http://itcsw.koreatech.ac.kr\"', 'target=\"_blank\"', 'class=\"button-more-slide\">바로가기</a>', '</article>', '</div>', '</div>', '<div', 'class=\"ui-tabs-panel', 'ui-widget-content', 'ui-corner-bottom\"', 'id=\"panel-3\"', 'style=\"background-image:', 'url(layouts/cse/images/kut3.png);', 'display:', 'none;', 'background-position:', '50%', '0px;', 'background-repeat:', 'no-repeat', 'no-repeat;\"', 'aria-labelledby=\"ui-id-3\"', 'role=\"tabpanel\"', 'aria-expanded=\"false\"', 'aria-hidden=\"true\">', '<div', 'class=\"tabs-blur', 'no-blur\"', 'style=\"background:url(http://placehold.it/2000x620)', 'no-repeat', '50%', '0\">', '</div>', '<div', 'class=\"tabs-container\">', '<article>', '<h2>교육역량강화사업', '컨텐츠</h2>', '<p>교육역량강화사업', '온라인', '컨텐츠를', '소개합니다.</p>', '<a', 'href=\"http://220.68.64.187\"', 'target=\"_blank\"', 'class=\"button-more-slide\">바로가기</a>', '</article>', '</div>', '</div>', '</div>', '<!--', 'main', 'image', 'tab', 'end', '-->', '<div>', '<div', 'id=\"content\"', 'class=\"clearfix\">', '<div', 'class=\"xe-widget-wrapper', '\"', 'style=\"background-position:', '0%', '0%;', 'margin:', '0px;', 'border:', '0px', 'solid', 'rgb(0,', '0,', '0);', 'border-image:', 'none;', 'width:', '375px;', 'float:', 'left;', 'background-image:', 'none;', 'background-repeat:', 'repeat', 'repeat;\"><div', 'style=\"*zoom:1;padding:0px', '0px', '0px', '0px', '!important;\"><div', 'class=\"sidebar-homepage\">', '<aside', 'class=\"widget-container\">', '<div', 'class=\"widget-wrapper', 'clearfix\">', '<h3', 'class=\"widget-title\"><a', 'href=\"https://cse.koreatech.ac.kr/notice\">공지사항</a></h3>', '<ul', 'class=\"widgetA', 'menu', 'news-sidebar\">', '<li', 'class=\"clearfix\"', '>', '<h4><a', 'href=\"https://cse.koreatech.ac.kr/82272\"', 'class=\"title\"><span', 'style=\"font-weight:bold\">2017년', '졸업작품', '영어발표', '경진대회', '및', '공학설계', '아이...</span></a></h4>', '<span', 'class=\"date-news\">2017-10-11', '09:24', '09:24</span>', '</li>', '<li', 'class=\"clearfix\"', '>', '<h4><a', 'href=\"https://cse.koreatech.ac.kr/82264\"', 'class=\"title\"><span', 'style=\"font-weight:bold\">[특성화]', '2017', 'IT융합', '프로그래밍', '경시대회', '모집', '공고</span></a></h4>', '<span', 'class=\"date-news\">2017-10-10', '15:49', '15:49</span>', '</li>', '<li', 'class=\"clearfix\"', '>', '<h4><a', 'href=\"https://cse.koreatech.ac.kr/82220\"', 'class=\"title\"><span', 'style=\"font-weight:bold\">[특성화]', 'ICTS', '2017', '중국', '전시회', '선발학생', '공고</span></a></h4>', '<span', 'class=\"date-news\">2017-09-28', '10:18', '10:18</span>', '</li>', '<li', 'class=\"clearfix\"', '>', '<h4><a', 'href=\"https://cse.koreatech.ac.kr/82196\"', 'class=\"title\"><span', 'style=\"font-weight:bold\">[특성화]', 'KES', '2017', '전시회', '선발학생', '공고</span></a></h4>', '<span', 'class=\"date-news\">2017-09-27', '15:20', '15:20</span>', '</li>', '<li', 'class=\"clearfix\"', '>', '<h4><a', 'href=\"https://cse.koreatech.ac.kr/82142\"', 'class=\"title\"><span', 'style=\"font-weight:bold\">[졸업작품', '전시회', '참가자', '필독]', '2017년', '졸업작품', '전시...</span></a></h4>', '<span', 'class=\"date-news\">2017-09-27', '13:24', '13:24</span>', '</li>', '</ul>', '</div>', '</aside>', '</div>', '</div></div><div', 'class=\"xe-widget-wrapper', '\"', 'style=\"background-position:', '0%', '0%;', 'margin:', '0px;', 'border:', '0px', 'solid', 'rgb(0,', '0,', '0);', 'border-image:', 'none;', 'width:', '375px;', 'float:', 'left;', 'background-image:', 'none;', 'background-repeat:', 'repeat', 'repeat;\"><div', 'style=\"*zoom:1;padding:0px', '0px', '0px', '0px', '!important;\"><div', 'class=\"sidebar-homepage\">', '<aside', 'class=\"widget-container\">', '<div', 'class=\"widget-wrapper', 'clearfix\">', '<h3', 'class=\"widget-title\"><a', 'href=\"https://cse.koreatech.ac.kr/freeboard\">자유게시판</a></h3>', '<ul', 'class=\"widgetA', 'menu', 'news-sidebar\">', '<li', 'class=\"clearfix\"', '>', '<h4><a', 'href=\"https://cse.koreatech.ac.kr/82224\"', 'class=\"title\">제6회', '레몬', '정보보호', '세미나', '개최</a></h4>', '<span', 'class=\"date-news\">2017-10-06', '23:40', '23:40</span>', '</li>', '<li', 'class=\"clearfix\"', '>', '<h4><a', 'href=\"https://cse.koreatech.ac.kr/81765\"', 'class=\"title\">예비역', '훈련', '및', '뒤풀이', '공지!</a></h4>', '<span', 'class=\"date-news\">2017-09-19', '21:16', '21:16</span>', '</li>', '<li', 'class=\"clearfix\"', '>', '<h4><a', 'href=\"https://cse.koreatech.ac.kr/81737\"', 'class=\"title\">모의토익비를', '지원해드립니다.^^</a></h4>', '<span', 'class=\"date-news\">2017-09-17', '20:08', '20:08</span>', '</li>', '<li', 'class=\"clearfix\"', '>', '<h4><a', 'href=\"https://cse.koreatech.ac.kr/81455\"', 'class=\"title\">4공학관', 'B동', '입구', '담배피우는', '문제로', '글을', '올립니다.</a></h4>', '<span', 'class=\"date-news\">2017-09-11', '22:13', '22:13</span>', '</li>', '<li', 'class=\"clearfix\"', '>', '<h4><a', 'href=\"https://cse.koreatech.ac.kr/81414\"', 'class=\"title\">학술소모임', '씨앗(Seed)에서', '신입', '회원', '모집', '및', '개강총...</a></h4>', '<span', 'class=\"date-news\">2017-09-05', '15:46', '15:46</span>', '</li>', '</ul>', '</div>', '</aside>', '</div>', '</div></div><div', 'class=\"xe-widget-wrapper', '\"', 'style=\"background-position:', '0%', '0%;', 'margin:', '0px;', 'border:', '0px', 'solid', 'rgb(0,', '0,', '0);', 'border-image:', 'none;', 'width:', '375px;', 'float:', 'left;', 'background-image:', 'none;', 'background-repeat:', 'repeat', 'repeat;\"><div', 'style=\"*zoom:1;padding:0px', '0px', '0px', '0px', '!important;\"><div', 'class=\"sidebar-homepage\">', '<aside', 'class=\"widget-container\">', '<div', 'class=\"widget-wrapper', 'clearfix\">', '<h3', 'class=\"widget-title\"><a', 'href=\"https://cse.koreatech.ac.kr/jobboard\">취업게시판</a></h3>', '<ul', 'class=\"widgetA', 'menu', 'news-sidebar\">', '<li', 'class=\"clearfix\"', '>', '<h4><a', 'href=\"https://cse.koreatech.ac.kr/82223\"', 'class=\"title\">[천안]', '(주)ABB코리아', '채용', '공고문', '-', '로봇사업부', '채용(...</a></h4>', '<span', 'class=\"date-news\">2017-09-29', '11:29', '11:29</span>', '</li>', '<li', 'class=\"clearfix\"', '>', '<h4><a', 'href=\"https://cse.koreatech.ac.kr/81798\"', 'class=\"title\">영풍전자(주)', '-', '[안산]_직무별[제조기술/품질/개발/마...</a></h4>', '<span', 'class=\"date-news\">2017-09-25', '10:04', '10:04</span>', '</li>', '<li', 'class=\"clearfix\"', '>', '<h4><a', 'href=\"https://cse.koreatech.ac.kr/81796\"', 'class=\"title\">[용인-수원(내년', '통합예정)]', '㈜라온옵틱스', '신입,', '경력...</a></h4>', '<span', 'class=\"date-news\">2017-09-25', '09:21', '09:21</span>', '</li>', '<li', 'class=\"clearfix\"', '>', '<h4><a', 'href=\"https://cse.koreatech.ac.kr/81441\"', 'class=\"title\">엑시콘', '산학공동연구소', '연구원', '모집(~9/18)</a></h4>', '<span', 'class=\"date-news\">2017-09-08', '13:46', '13:46</span>', '</li>', '<li', 'class=\"clearfix\"', '>', '<h4><a', 'href=\"https://cse.koreatech.ac.kr/81362\"', 'class=\"title\"><span', 'style=\"font-weight:bold\">[서울]', '에이치투오시스템테크놀로지(주)', 'IT개발', '및', '마...</span></a></h4>', '<span', 'class=\"date-news\">2017-09-04', '17:35', '17:35</span>', '</li>', '</ul>', '</div>', '</aside>', '</div>', '</div></div><div', 'class=\"xe-widget-wrapper', '\"', 'style=\"background-position:', '0%', '0%;', 'margin:', '0px;', 'border:', '0px', 'solid', 'rgb(0,', '0,', '0);', 'border-image:', 'none;', 'width:', '375px;', 'float:', 'left;', 'background-image:', 'none;', 'background-repeat:', 'repeat', 'repeat;\"><div', 'style=\"*zoom:1;padding:0px', '0px', '0px', '0px', '!important;\"><div', 'class=\"sidebar-homepage\">', '<aside', 'class=\"widget-container\">', '<div', 'class=\"widget-wrapper', 'clearfix\">', '<h3', 'class=\"widget-title\"><a', 'href=\"http://platum.kr\">Platum</a></h3>', '<ul', 'class=\"widgetA', 'menu', 'news-sidebar\">', '<li', 'class=\"clearfix\"', '>', '<h4><a', 'href=\"http://platum.kr/archives/89365\"', 'class=\"title\">[인터뷰]', '사업도', '하고', '재능도', '팔아요.</a></h4>', '<span', 'class=\"icon\"></span>', '<span', 'class=\"date-news\">2017-10-13', '07:59', '07:59</span>', '</li>', '<li', 'class=\"clearfix\"', '>', '<h4><a', 'href=\"http://platum.kr/archives/89437\"', 'class=\"title\">[르포]', '“아이디어를', '현실로”', '하드웨어', '액셀러레이터', '‘...</a></h4>', '<span', 'class=\"icon\"></span>', '<span', 'class=\"date-news\">2017-10-13', '07:56', '07:56</span>', '</li>', '<li', 'class=\"clearfix\"', '>', '<h4><a', 'href=\"http://platum.kr/archives/89433\"', 'class=\"title\">위키위키,', '중고-리퍼', '악기', '거래', '플랫폼', '‘뮤지션마켓’', '론칭</a></h4>', '<span', 'class=\"icon\"></span>', '<span', 'class=\"date-news\">2017-10-13', '07:06', '07:06</span>', '</li>', '<li', 'class=\"clearfix\"', '>', '<h4><a', 'href=\"http://platum.kr/archives/89429\"', 'class=\"title\">로플랫,', '리워드앱', '‘캐시플레이스’', '출시</a></h4>', '<span', 'class=\"icon\"></span>', '<span', 'class=\"date-news\">2017-10-13', '06:57', '06:57</span>', '</li>', '<li', 'class=\"clearfix\"', '>', '<h4><a', 'href=\"http://platum.kr/archives/89424\"', 'class=\"title\">알리바바', '그룹,', 'R&D에', '17조', '투자', '…', '글로벌', '기술력,', '인...</a></h4>', '<span', 'class=\"icon\"></span>', '<span', 'class=\"date-news\">2017-10-13', '06:48', '06:48</span>', '</li>', '</ul>', '</div>', '</aside>', '</div>', '</div></div><div', 'class=\"xe-widget-wrapper', '\"', 'style=\"background-position:', '0%', '0%;', 'margin:', '0px;', 'border:', '0px', 'solid', 'rgb(0,', '0,', '0);', 'border-image:', 'none;', 'width:', '375px;', 'float:', 'left;', 'background-image:', 'none;', 'background-repeat:', 'repeat', 'repeat;\"><div', 'style=\"*zoom:1;padding:0px', '0px', '0px', '0px', '!important;\"><div', 'class=\"sidebar-homepage\">', '<aside', 'class=\"widget-container\">', '<div', 'class=\"widget-wrapper', 'clearfix\">', '<h3', 'class=\"widget-title\"><a', 'href=\"http://www.etnews.com/\">전자신문</a></h3>', '<ul', 'class=\"widgetA', 'menu', 'news-sidebar\">', '<li', 'class=\"clearfix\"', '>', '<h4><a', 'href=\"http://www.etnews.com/20171013000326\"', 'class=\"title\">[국정감사', '2017]방통위', '\"휴대폰', '호갱', '없도록', '집단...</a></h4>', '<span', 'class=\"icon\"></span>', '<span', 'class=\"date-news\">2017-10-13', '22:02', '22:02</span>', '</li>', '<li', 'class=\"clearfix\"', '>', '<h4><a', 'href=\"http://www.etnews.com/20171013000325\"', 'class=\"title\">[국정감사', '2017]여야,', '페이스북', '접속경로', '임의변...</a></h4>', '<span', 'class=\"icon\"></span>', '<span', 'class=\"date-news\">2017-10-13', '21:39', '21:39</span>', '</li>', '<li', 'class=\"clearfix\"', '>', '<h4><a', 'href=\"http://www.etnews.com/20171013000299\"', 'class=\"title\">[2017', '국정감사]방통위,', '\"UHD', 'TV제조사가', '콘텐츠', '...</a></h4>', '<span', 'class=\"icon\"></span>', '<span', 'class=\"date-news\">2017-10-13', '17:06', '17:06</span>', '</li>', '<li', 'class=\"clearfix\"', '>', '<h4><a', 'href=\"http://www.etnews.com/20171013000286\"', 'class=\"title\">[2017', '국정감사]변재일', '\"동의의결에', '따른', '소비자...</a></h4>', '<span', 'class=\"icon\"></span>', '<span', 'class=\"date-news\">2017-10-13', '16:46', '16:46</span>', '</li>', '<li', 'class=\"clearfix\"', '>', '<h4><a', 'href=\"http://www.etnews.com/20171013000265\"', 'class=\"title\">올레', 'tv', '영화', '추천', '프로그램', '가을맞이', '개편</a></h4>', '<span', 'class=\"icon\"></span>', '<span', 'class=\"date-news\">2017-10-13', '15:41', '15:41</span>', '</li>', '</ul>', '</div>', '</aside>', '</div>', '</div></div><div', 'class=\"xe-widget-wrapper', '\"', 'style=\"background-position:', '0%', '0%;', 'margin:', '0px;', 'border:', '0px', 'solid', 'rgb(0,', '0,', '0);', 'border-image:', 'none;', 'width:', '375px;', 'float:', 'left;', 'background-image:', 'none;', 'background-repeat:', 'repeat', 'repeat;\"><div', 'style=\"*zoom:1;padding:0px', '0px', '0px', '0px', '!important;\"><div', 'class=\"sidebar-homepage\">', '<aside', 'class=\"widget-container\">', '<div', 'class=\"widget-wrapper', 'clearfix\">', '<h3', 'class=\"widget-title\"><a', 'href=\"https://techcrunch.com/\">TechCrunch</a></h3>', '<ul', 'class=\"widgetA', 'menu', 'news-sidebar\">', '<li', 'class=\"clearfix\"', '>', '<h4><a', 'href=\"http://feedproxy.google.com/~r/Techcrunch/~3/XfietkbP3_w/\"', 'class=\"title\">Smart', 'cities', 'are', 'boring.', 'Give', 'us', 'responsive', 'ci...</a></h4>', '<span', 'class=\"icon\"></span>', '<span', 'class=\"date-news\">2017-10-14', '22:30', '22:30</span>', '</li>', '<li', 'class=\"clearfix\"', '>', '<h4><a', 'href=\"http://feedproxy.google.com/~r/Techcrunch/~3/rX2Ut3xhqBQ/\"', 'class=\"title\">Crunch', 'Report', '|', 'Steve', 'Wozniak', 'Launches', 'Educati...</a></h4>', '<span', 'class=\"icon\"></span>', '<span', 'class=\"date-news\">2017-10-14', '12:30', '12:30</span>', '</li>', '<li', 'class=\"clearfix\"', '>', '<h4><a', 'href=\"http://feedproxy.google.com/~r/Techcrunch/~3/KGV-VdBZN0U/\"', 'class=\"title\">Twitter', 'CEO', 'promises', 'to', 'crack', 'down', 'on', 'hate,', 'vi...</a></h4>', '<span', 'class=\"icon\"></span>', '<span', 'class=\"date-news\">2017-10-14', '12:09', '12:09</span>', '</li>', '<li', 'class=\"clearfix\"', '>', '<h4><a', 'href=\"http://feedproxy.google.com/~r/Techcrunch/~3/EroUpAtoVls/\"', 'class=\"title\">Apple', 'diversity', 'head', 'Denise', 'Young', 'Smith', 'apolog...</a></h4>', '<span', 'class=\"icon\"></span>', '<span', 'class=\"date-news\">2017-10-14', '11:55', '11:55</span>', '</li>', '<li', 'class=\"clearfix\"', '>', '<h4><a', 'href=\"http://feedproxy.google.com/~r/Techcrunch/~3/wv0qK1TQ-40/\"', 'class=\"title\">Bringing', 'influencer', 'marketing', 'to', 'small', 'busines...</a></h4>', '<span', 'class=\"icon\"></span>', '<span', 'class=\"date-news\">2017-10-14', '10:50', '10:50</span>', '</li>', '</ul>', '</div>', '</aside>', '</div>', '</div></div>', '</div>', '</div>', '<!--', 'main', 'page', 'footer', 'start', '-->', '<footer', 'id=\"main-footer\">', '<!--', '<div', 'id=\"blur-top\">', '<a', 'href=\"#\"', 'id=\"link-back-top\">Back', 'to', 'Top</a>', '</div>', '<div', 'id=\"slogan-footer\">', '<h4>Leading', 'Together', '<span>for</span>', 'Brighter', 'Future</h4>', '</div>', '-->', '<div', 'id=\"footer-content\"', 'class=\"clearfix\">', '<div', 'id=\"footer-container\">', '<div', 'id=\"sidebar-footer-left\"', 'class=\"sidebar-footer\">', '<aside', 'class=\"widget-container\">', '<div', 'class=\"widget-wrapper', 'clearfix\">', '<h3', 'class=\"widget-title\">Quick', 'Navigation</h3>', '<ul>', '<li><a', 'href=\"http://www.koreatech.ac.kr\"', 'target=\"_blank\">한국기술교육대학교', '홈페이지</a></li>', '<li><a', 'href=\"https://email.koreatech.ac.kr\"', 'target=\"_blank\">한국기술교육대학교', 'WEBMAIL</a></li>', '<li><a', 'href=\"http://www.e-koreatech.ac.kr\"', 'target=\"_blank\">한국기술교육대학교', '온라인', '평생교육원</a></li>', '<li><a', 'href=\"http://itcsw.koreatech.ac.kr\"', 'target=\"_blank\">IT', '융합소프트웨어', '인력양성사업</a></li>', '<li><a', 'href=\"http://csenas.koreatech.ac.kr:5000\"', 'target=\"_blank\">컴퓨터공학부', '교직원', '업무', '자료실</a></li>', '<!--<li><a', 'href=\"https://cse.koreatech.ac.kr/?mid=portfolio\"', 'target=\"_blank\">컴퓨터공학부', '포트폴리오</a></li>-->', '</ul>', '</div>', '</aside>', '</div>', '<div', 'id=\"sidebar-footer-middle\"', 'class=\"sidebar-footer\">', '<aside', 'class=\"widget-container\">', '<div', 'class=\"widget-wrapper', 'clearfix\">', '<h3', 'class=\"widget-title\">Campus', 'Location</h3>', '<article', 'class=\"text-widget', '\">', '<iframe', 'class=\"map-area\"', 'src=\"https://www.google.com/maps/embed?pb=!1m18!1m12!1m3!1d3196.369861062225!2d127.28035150000001!3d36.761693699999995!2m3!1f0!2f0!3f0!3m2!1i1024!2i768!4f13.1!3m3!1m2!1s0x357b2ac0a5190d0f%3A0x24cddeffd416ef74!2z7LKc7JWI7IucIOuzkeyynOuptCDtlZzqta3quLDsiKDqtZDsnKHrjIDtlZnqtZAg6rO17ZWZNOq0gA!5e0!3m2!1sko!2skr!4v1428058842867\"', 'width=\"600\"', 'height=\"450\"', 'frameborder=\"0\"', 'style=\"border:0\"></iframe><br/>', '</div>', '</aside>', '</div>', '<div', 'id=\"sidebar-footer-right\"', 'class=\"sidebar-footer\">', '<aside', 'class=\"widget-container\">', '<h3', 'class=\"widget-title\">Contact', 'CSE</h3>', '<p>충청남도', '천안시', '동남구', '병천면', '충절로', '1600<br/>한국기술교육대학교', '컴퓨터공학부', '학과사무실', '<br/>TEL', '(041)', '560', '1460', '~', '1461<br/>', 'FAX', '(041)', '560', '1462', '<ul', 'id=\"list-social\"', 'class=\"clearfix\">', '<li', 'id=\"icon-facebook\"><a', 'href=\"https://facebook.com/koreatech.cse.edu\"', 'target=\"_blank\">Facebook</a></li>', '<!--<li', 'id=\"icon-twitter\"><a', 'href=\"#\">Twitter</a></li>', '<li', 'id=\"icon-gplus\"><a', 'href=\"#\">Google', 'Plus</a></li>', '<li', 'id=\"icon-linkedin\"><a', 'href=\"#\">Linkedin</a></li>-->', '</ul>', '</aside>', '</div>', '</div>', '</div>', '<div', 'id=\"footer-copyright\">', '<div', 'id=\"footer-copyright-content\"', 'class=\"clearfix\">', '<a', 'href=\"#\"', 'id=\"logo-footer\"><img', 'src=\"/layouts/cse/images/cse_logo_footer.png\"', 'data-retina=\"images/cse_logo_footer_retina.png\"', 'alt=\"School', 'Fun', '-', 'University\"', '/></a>', '<p', 'id=\"text-address\">(31253)', '충청남도', '천안시', '동남구', '병천면', '충절로', '1600', '(가전리,', '한국기술교육대학교)', '컴퓨터공학부', '</p>', '<p', 'id=\"text-copyright\">Copyright', '©', '2015.', 'All', 'rights', 'reserved</p>', '</div>', '</div>', '</footer>', '<!--', 'main', 'page', 'footer', 'end', '-->', '</body>', '</html>', '<!--', 'ETC', '-->', '<div', 'class=\"wfsr\"></div>', '<script', 'src=\"/addons/autolink/autolink.js?20170918124610\"></script><script', 'src=\"/common/js/plugins/ui/jquery-ui.min.js?20170918124612\"></script><script', 'src=\"/common/js/plugins/ui/jquery.ui.datepicker-ko.js?20170918124612\"></script><script', 'src=\"/addons/resize_image/js/resize_image.min.js?20170918124610\"></script><script', 'src=\"/layouts/cse/script/jquery.flexslider.js?20150805222706\"></script><script', 'src=\"/layouts/cse/script/jquery.prettyPhoto.js?20150805222706\"></script><script', 'src=\"/layouts/cse/script/jquery-ui-tabs-rotate.js?20150805222706\"></script><script', 'src=\"/layouts/cse/script/scripts.js?20150821172206\"></script><script', 'src=\"/files/cache/js_filter_compiled/5ad07e2b14b79f1c993c3e4b5ca58660.ko.compiled.js?20170918124726\"></script><script', 'src=\"/files/cache/ruleset/85b80736b3cc92d07570521ad97a31d9.ko.js?20170918124726\"></script></body>', '</html>']\n"
     ]
    }
   ],
   "source": [
    "from urllib import request\n",
    "url='http://cse.koreatech.ac.kr'\n",
    "f=request.urlopen(url)\n",
    "source_bytes=f.read()\n",
    "source=source_bytes.decode('utf-8')\n",
    "\n",
    "hey=source.split()\n",
    "print(hey)"
   ]
  },
  {
   "cell_type": "markdown",
   "metadata": {},
   "source": [
    "<hr>\n",
    "문제5<br/>\n",
    "더하기 싸이클 "
   ]
  },
  {
   "cell_type": "code",
   "execution_count": 6,
   "metadata": {},
   "outputs": [
    {
     "name": "stdout",
     "output_type": "stream",
     "text": [
      "13\n",
      "12\n"
     ]
    }
   ],
   "source": [
    "input_n=int(input())\n",
    "n, result_count=input_n,0\n",
    "while True:\n",
    "    if n<10:\n",
    "        n=(n*10)+n\n",
    "    else:\n",
    "        right=int(n/10)+(n%10)\n",
    "        n=(n%10*10)+(right%10)\n",
    "    result_count+=1\n",
    "    if n is input_n:\n",
    "        break\n",
    "print(result_count)"
   ]
  },
  {
   "cell_type": "markdown",
   "metadata": {},
   "source": [
    "십의 자리든 일의 자리든 10으로 나누면 1일자리 값이 나오고, 또한 몫은 10의 자리 값이 되게 된다. \n",
    "그 두 값을 더 해가는 과정에서 최종적으로 원래 주어진 값과 같게 되면 break를 통해 while을 빠져나오게 작성 "
   ]
  },
  {
   "cell_type": "markdown",
   "metadata": {},
   "source": [
    "<img src='pic2.jpg'>"
   ]
  }
 ],
 "metadata": {
  "kernelspec": {
   "display_name": "Python 3",
   "language": "python",
   "name": "python3"
  },
  "language_info": {
   "codemirror_mode": {
    "name": "ipython",
    "version": 3
   },
   "file_extension": ".py",
   "mimetype": "text/x-python",
   "name": "python",
   "nbconvert_exporter": "python",
   "pygments_lexer": "ipython3",
   "version": "3.6.1"
  }
 },
 "nbformat": 4,
 "nbformat_minor": 2
}

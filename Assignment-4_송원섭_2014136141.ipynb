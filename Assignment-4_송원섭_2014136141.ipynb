{
 "cells": [
  {
   "cell_type": "markdown",
   "metadata": {},
   "source": [
    "[1번문제]"
   ]
  },
  {
   "cell_type": "code",
   "execution_count": 29,
   "metadata": {},
   "outputs": [
    {
     "name": "stdout",
     "output_type": "stream",
     "text": [
      "C:\\Users\\songwonseop\n"
     ]
    }
   ],
   "source": [
    "import os\n",
    "print(os.getcwd())"
   ]
  },
  {
   "cell_type": "code",
   "execution_count": 25,
   "metadata": {
    "collapsed": true
   },
   "outputs": [],
   "source": [
    "s=\"\"\"pig ham\n",
    "cat dog\n",
    "ham bird\n",
    "dog pig\\n\"\"\"\n",
    "f=open('s.txt','w')\n",
    "f.write(s)\n",
    "f.close()"
   ]
  },
  {
   "cell_type": "code",
   "execution_count": 26,
   "metadata": {},
   "outputs": [
    {
     "name": "stdout",
     "output_type": "stream",
     "text": [
      "pig ham\n",
      "cat dog\n",
      "ham bird\n",
      "dog pig\n",
      " \n",
      "\n"
     ]
    }
   ],
   "source": [
    "f=open('s.txt','r')\n",
    "g=f.read()\n",
    "print(g, \"\\n\")\n",
    "f.close()"
   ]
  },
  {
   "cell_type": "markdown",
   "metadata": {},
   "source": [
    "문자열을 하나 만들고, 파일 입출력으로 입력 "
   ]
  },
  {
   "cell_type": "code",
   "execution_count": 27,
   "metadata": {},
   "outputs": [
    {
     "name": "stdout",
     "output_type": "stream",
     "text": [
      "['pig ham\\n', 'cat dog\\n', 'ham bird\\n', 'dog pig\\n']\n",
      "['cat dog\\n', 'dog pig\\n', 'ham bird\\n', 'pig ham\\n']\n"
     ]
    }
   ],
   "source": [
    "f=open('s.txt')\n",
    "h=f.readlines()\n",
    "print(h)\n",
    "h.sort()\n",
    "print(h)\n",
    "f.close()"
   ]
  },
  {
   "cell_type": "markdown",
   "metadata": {},
   "source": [
    "-1) 1문제<br>\n",
    "파일 s.txt을 읽어서 각 라인에 있는 첫 번째 단어(문자열) 자체들을 기준으로 라인별 정렬후 파일 s1.txt에 그 결과를 기록하는 코드를 작성하시오. 즉, 프로그램 수행 후 s1.txt에 있는 파일 내용은 다음과 같다."
   ]
  },
  {
   "cell_type": "code",
   "execution_count": 31,
   "metadata": {},
   "outputs": [
    {
     "name": "stdout",
     "output_type": "stream",
     "text": [
      "cat dog\n",
      "dog pig\n",
      "ham bird\n",
      "pig ham\n",
      "\n"
     ]
    }
   ],
   "source": [
    "d=\"\".join(h)\n",
    "f=open('s1.txt','w')\n",
    "f.write(d)\n",
    "f.close()\n",
    "print(d)"
   ]
  },
  {
   "cell_type": "markdown",
   "metadata": {},
   "source": [
    "-2) 1문제<br>\n",
    "파일 s.txt을 읽어서 각 라인에 있는 두 번째 단어(문자열) 자체들을 기준으로 라인별 정렬후 파일 s2.txt에 그 결과를 기록하는 코드를 작성하시오. 즉, 프로그램 수행 후 s2.txt에 있는 파일 내용은 다음과 같다."
   ]
  },
  {
   "cell_type": "code",
   "execution_count": 45,
   "metadata": {},
   "outputs": [
    {
     "name": "stdout",
     "output_type": "stream",
     "text": [
      "ham bird\n",
      "cat dog\n",
      "pig ham\n",
      "dog pig\n",
      "\n"
     ]
    }
   ],
   "source": [
    "p=5\n",
    "f=open('s1.txt','r')\n",
    "o=f.readlines()\n",
    "o.sort(key=lambda l:l[4])\n",
    "s2=\"\".join(o)\n",
    "print(s2)\n",
    "f.close()\n",
    "\n",
    "f=open('s2.txt','w')\n",
    "f.write(s2)\n",
    "f.close()\n"
   ]
  },
  {
   "cell_type": "markdown",
   "metadata": {},
   "source": [
    "readlines 으로 문자열을 행별 문장을 리스트로 뽑아내고, sort와 lambda함수를 활용해 각 리스트 원소의 두번째 단어 첫알파벳에 접근해 정렬을 했다. "
   ]
  },
  {
   "cell_type": "markdown",
   "metadata": {},
   "source": [
    "-3) 1문제<br>\n",
    "파일 s.txt을 읽어서 각 라인들에 있는 모든 단어들을 순차적으로 다시 나열하되 각 라인에 세 개의 단어들이 오도록 하여 s3.txt에 기록하는 코드를 작성하시오. 즉, 프로그램 수행 후 s3.txt에 있는 파일 내용은 다음과 같다."
   ]
  },
  {
   "cell_type": "code",
   "execution_count": 90,
   "metadata": {
    "collapsed": true
   },
   "outputs": [],
   "source": [
    "s=\"\"\"pig ham\n",
    "cat dog\n",
    "ham bird\n",
    "dog pig\"\"\"\n",
    "f=open('s.txt', 'w')\n",
    "f.write(s)\n",
    "f.close()\n",
    "f=open('s.txt','r')\n",
    "u=f.read()\n",
    "u2=u.split(\"\\n\")\n",
    "f.close()\n",
    "f3=' '.join(u2)\n",
    "l3=f3.split(' ')\n"
   ]
  },
  {
   "cell_type": "code",
   "execution_count": 91,
   "metadata": {},
   "outputs": [
    {
     "name": "stdout",
     "output_type": "stream",
     "text": [
      "pig ham cat\n",
      "dog ham bird\n",
      "dog pig\n"
     ]
    }
   ],
   "source": [
    "o2=' '.join(l3[0:3:1])\n",
    "o3=' '.join(l3[3:6:1])\n",
    "o4=' '.join(l3[6::1])\n",
    "print(o2+\"\\n\"+o3+\"\\n\"+o4)\n",
    "\n",
    "f=open('s3.txt','w')\n",
    "f.write(o2)\n",
    "f.write(o3)\n",
    "f.write(o4)\n",
    "\n",
    "f.close()"
   ]
  },
  {
   "cell_type": "markdown",
   "metadata": {},
   "source": [
    "이미 작성된 문자열을 읽어와, 리스트로 분할하고 다시 스페이스를 추가해 문자열로join 한뒤 다시 리스트로 분할하고 슬라이스를 활용해 3개 단어로 묶어 문자열을 만든뒤 파일에 입력했다. "
   ]
  },
  {
   "cell_type": "markdown",
   "metadata": {},
   "source": [
    "<hr>2번 문제 <br>\n",
    "회원가입 프로그램"
   ]
  },
  {
   "cell_type": "code",
   "execution_count": 2,
   "metadata": {},
   "outputs": [
    {
     "name": "stdout",
     "output_type": "stream",
     "text": [
      "Welcome to our service\n",
      "\n",
      "1.sign up\n",
      "\n",
      "2.sign in\n",
      "\n",
      "3.Quit\n",
      "\n",
      "입력: 1\n",
      "아이디 입력:swsq2001\n",
      "비번 입력:ca\n",
      "이름 입력:won\n",
      "학교 입력:korea\n",
      "[swsq2001]:[ca][won][korea]\n",
      "\n",
      "Welcome to our service\n",
      "\n",
      "1.sign up\n",
      "\n",
      "2.sign in\n",
      "\n",
      "3.Quit\n",
      "\n",
      "입력: 2\n",
      "name:won\n",
      "password:ca\n",
      "\n",
      "\n",
      "won 님 반갑습니다.\n",
      "\n",
      "Welcome to our service\n",
      "\n",
      "1.sign up\n",
      "\n",
      "2.sign in\n",
      "\n",
      "3.Quit\n",
      "\n",
      "입력: 2\n",
      "name:won\n",
      "password:cd\n",
      "\n",
      "\n",
      " won님 패스워드 오류입니다 \n",
      "\n",
      "Welcome to our service\n",
      "\n",
      "1.sign up\n",
      "\n",
      "2.sign in\n",
      "\n",
      "3.Quit\n",
      "\n",
      "입력: 2\n",
      "name:wd\n",
      "password:cd\n",
      "이름이 조회 되지 않습니다. 메뉴 다시 선택해 주세요\n",
      "\n",
      "Welcome to our service\n",
      "\n",
      "1.sign up\n",
      "\n",
      "2.sign in\n",
      "\n",
      "3.Quit\n",
      "\n",
      "입력: 2\n",
      "name:ewfopkwepf\n",
      "password:e\n",
      "이름이 조회 되지 않습니다. 메뉴 다시 선택해 주세요\n",
      "\n",
      "Welcome to our service\n",
      "\n",
      "1.sign up\n",
      "\n",
      "2.sign in\n",
      "\n",
      "3.Quit\n",
      "\n",
      "입력: 2\n",
      "name:won\n",
      "password:ca\n",
      "\n",
      "\n",
      "won 님 반갑습니다.\n",
      "\n",
      "Welcome to our service\n",
      "\n",
      "1.sign up\n",
      "\n",
      "2.sign in\n",
      "\n",
      "3.Quit\n",
      "\n",
      "입력: 2\n",
      "name:won\n",
      "password:oewfjoferj\n",
      "\n",
      "\n",
      " won님 패스워드 오류입니다 \n",
      "\n",
      "Welcome to our service\n",
      "\n",
      "1.sign up\n",
      "\n",
      "2.sign in\n",
      "\n",
      "3.Quit\n",
      "\n",
      "입력: 3\n"
     ]
    }
   ],
   "source": [
    "f=open('access.txt','w')\n",
    "f.close()\n",
    "while(1):\n",
    "    print(\"Welcome to our service\\n\")\n",
    "    print(\"1.sign up\\n\")\n",
    "    print(\"2.sign in\\n\")\n",
    "    print(\"3.Quit\\n\")\n",
    "    b=int(input(\"입력: \"))\n",
    "    \n",
    "    if(b==1):\n",
    "        ID=\"[\"+input(\"아이디 입력:\")+\"]:\"\n",
    "        password=\"[\"+input(\"비번 입력:\")+\"]\"\n",
    "        name=\"[\"+input(\"이름 입력:\")+\"]\"\n",
    "        school=\"[\"+input(\"학교 입력:\")+\"]\"\n",
    "        full=ID+password+name+school+'\\n'\n",
    "        print(full)\n",
    "        f=open('access.txt','a')\n",
    "        f.write(full)\n",
    "        f.close()\n",
    "        \n",
    "    elif(b==2):\n",
    "        name2=input(\"name:\")\n",
    "        password2=input(\"password:\")\n",
    "        f=open('access.txt')\n",
    "        for line in f.readlines():\n",
    "            if ''.join(line).find(name2)!=-1:\n",
    "                if ''.join(line).find(password2)!=-1:\n",
    "                    print(\"\\n\\n%s 님 반갑습니다.\\n\"%name2)\n",
    "                elif ''.join(line).find(password2)==-1:\n",
    "                    print(\"\\n\\n %s님 패스워드 오류입니다 \\n\"%name2)\n",
    "            elif ''.join(line).find(name2)==-1 :\n",
    "                print(\"이름이 조회 되지 않습니다. 메뉴 다시 선택해 주세요\\n\")\n",
    "    elif(b==3):\n",
    "        print(\"종료합니다 \\n\")\n",
    "        break\n",
    "    else:\n",
    "        print(\"\\n\\n메뉴 잘 못 입력\\n\")\n",
    "        continue"
   ]
  },
  {
   "cell_type": "markdown",
   "metadata": {},
   "source": [
    "<hr>[3번 문제]"
   ]
  },
  {
   "cell_type": "code",
   "execution_count": 49,
   "metadata": {},
   "outputs": [
    {
     "name": "stdout",
     "output_type": "stream",
     "text": [
      "0.0, \n",
      "0.5, \n",
      "1.0, \n",
      "1.5, \n",
      "2.0, \n",
      "2.5, \n",
      "3.0, \n",
      "3.5, \n",
      "4.0, \n",
      "4.5, \n",
      "5.0, \n",
      "5.5, \n",
      "6.0, \n",
      "6.5, \n",
      "7.0, \n",
      "7.5, \n",
      "8.0, \n",
      "8.5, \n",
      "9.0, \n",
      "9.5, \n",
      "10.0, \n",
      "None\n"
     ]
    }
   ],
   "source": [
    "def frange(start, stop, step=0.1):\n",
    "    while ( start <= stop ):\n",
    "        print(\"%.1f, \\n\"%start, end='')\n",
    "        start = start + step\n",
    "    return \n",
    "\n",
    "print(frange(0,10,0.5))"
   ]
  },
  {
   "cell_type": "markdown",
   "metadata": {},
   "source": [
    "인자 3개를 입력받아 range 함수와 비슷 한 동작을 구현했다, 다른 점은 세번 째 인수로 실수를 입력받아 등차수열을 출력하는 함수를 만들었다. "
   ]
  },
  {
   "cell_type": "markdown",
   "metadata": {},
   "source": [
    "<hr> [4번 문제]"
   ]
  },
  {
   "cell_type": "code",
   "execution_count": 25,
   "metadata": {},
   "outputs": [
    {
     "name": "stdout",
     "output_type": "stream",
     "text": [
      "15\n",
      "10\n"
     ]
    }
   ],
   "source": [
    "def sum(*args):\n",
    "    result =0\n",
    "    for x in args:\n",
    "        result= result+x\n",
    "    return result\n",
    "\n",
    "print(sum(1,2,3,4,5))\n",
    "print(sum(1,2,3,4))"
   ]
  },
  {
   "cell_type": "markdown",
   "metadata": {},
   "source": [
    "가변인수 만드는 방법은 *를 붙여주면 된다. "
   ]
  },
  {
   "cell_type": "markdown",
   "metadata": {},
   "source": [
    "<hr> [5번 문제] <br>\n",
    "여러 단어로 이루어진 문자열을 입력받아 각 단어의 첫글자로 이루어진 단어를 대문자로 출력하는 myinitial() 함수를 다음 조건을 참고하여 작성하시오.\n"
   ]
  },
  {
   "cell_type": "code",
   "execution_count": 24,
   "metadata": {},
   "outputs": [
    {
     "name": "stdout",
     "output_type": "stream",
     "text": [
      "문자열 입력: as soon as possible\n",
      "ASAP"
     ]
    }
   ],
   "source": [
    "def myinitial(x):\n",
    "    print(x[0:1].upper(), end='')\n",
    " \n",
    "    return \n",
    "\n",
    "a= input(\"문자열 입력: \")\n",
    "p= list(map(myinitial, a.split()))\n",
    "\n"
   ]
  },
  {
   "cell_type": "markdown",
   "metadata": {},
   "source": [
    "<hr>[6번 문제]<br>\n",
    "음이 아닌 정수 n를 입력받으면 n! (factorial)을 계산하는 myfact() 함수를 재귀적 함수로 구현하시오."
   ]
  },
  {
   "cell_type": "code",
   "execution_count": 52,
   "metadata": {},
   "outputs": [
    {
     "name": "stdout",
     "output_type": "stream",
     "text": [
      "양의 정수 입력: 4\n",
      "24\n"
     ]
    }
   ],
   "source": [
    "\n",
    "def myfact(re,x):\n",
    "    if(x<=1):\n",
    "        return re\n",
    "    re = re*x\n",
    "    return myfact(re,x-1) \n",
    "\n",
    "a=int(input(\"양의 정수 입력: \"))\n",
    "print(myfact(1,a))"
   ]
  },
  {
   "cell_type": "markdown",
   "metadata": {},
   "source": [
    "<hr>[7번 문제]<br>\n",
    "(서술형) import string 과 from string import * 의 차이점을 설명하시오."
   ]
  },
  {
   "cell_type": "markdown",
   "metadata": {},
   "source": [
    "-import string 은 string 모듈 전체를 가져오는 것이고, from string import* 방식은 모듈 내에서 필요한 자원만 가져오는 것인데, '*' 표현으로 모듈내에 모든 자원을 가져오는 것으로, 같은 의미가 되겠다. "
   ]
  },
  {
   "cell_type": "code",
   "execution_count": null,
   "metadata": {
    "collapsed": true
   },
   "outputs": [],
   "source": []
  }
 ],
 "metadata": {
  "kernelspec": {
   "display_name": "Python 3",
   "language": "python",
   "name": "python3"
  },
  "language_info": {
   "codemirror_mode": {
    "name": "ipython",
    "version": 3
   },
   "file_extension": ".py",
   "mimetype": "text/x-python",
   "name": "python",
   "nbconvert_exporter": "python",
   "pygments_lexer": "ipython3",
   "version": "3.6.1"
  }
 },
 "nbformat": 4,
 "nbformat_minor": 2
}

{
 "cells": [
  {
   "cell_type": "markdown",
   "metadata": {},
   "source": [
    "문제1번<br>\n",
    "클래스와 모듈의 공통점과 차이점에 대해 설명하시오.<br>\n",
    ":모듈은 파일 단위로 이름 공간을 구성하고, 파이썬 프로그램 파일로서 파이썬 데이터와 함수등을 정의하고 있는 단위이다. 서로 연관된 작업을 하는 코드들을 묶어서 독립성을 유지하되, 재사용 하게 만드는 단위, 프로그램 개발시에 전체 코드들을 여러 모듈 단위로 분리하여 설계함으로써 작업의 효율을 높일 수 있음. \n",
    "클래스는 영역내에 이름공간을 구성하고, 모든 인스턴스들에 의해 공유된다. "
   ]
  },
  {
   "cell_type": "markdown",
   "metadata": {},
   "source": [
    "문제2번<br>\n",
    "부모 클래스를 상속받고 오버라이딩을 통해 다른 클래스지만 같은 함수명을 갖었을 시 다른 반응을 나타낼 수 있다.(오버라이딩)"
   ]
  },
  {
   "cell_type": "code",
   "execution_count": 22,
   "metadata": {},
   "outputs": [
    {
     "name": "stdout",
     "output_type": "stream",
     "text": [
      "david\n",
      "None\n"
     ]
    }
   ],
   "source": [
    "class parents:\n",
    "    def over(self):\n",
    "        print('nothing')\n",
    "        \n",
    "class child1(parents):\n",
    "    def over(self):\n",
    "        print('david')\n",
    "class child2(parents):\n",
    "    def over(self):\n",
    "        print('jason')\n",
    "class child3(parents):\n",
    "    def over(self):\n",
    "        print('shalot')\n",
    "print( child1.over(child1))"
   ]
  },
  {
   "cell_type": "markdown",
   "metadata": {},
   "source": [
    "학기말 소감<br>\n",
    "이번 학기는 작년도에 비해 개인적으로 받은 환경적 영향으로 학업에 집중도가 많이 떨어졌지만, 잘 다듬어진 교육자료와 하나하나 차근차근 교육시켜주신 교수님 덕분에 한 학기 알차게 배움 얻고 가는 시간이 되어 보람 있었습니다. 앞으로도 스크립트 강의 처럼 좋은 강의 많이 듣고 싶습니다.<br> 감사합니다!!!"
   ]
  },
  {
   "cell_type": "code",
   "execution_count": null,
   "metadata": {
    "collapsed": true
   },
   "outputs": [],
   "source": []
  }
 ],
 "metadata": {
  "kernelspec": {
   "display_name": "Python 3",
   "language": "python",
   "name": "python3"
  },
  "language_info": {
   "codemirror_mode": {
    "name": "ipython",
    "version": 3
   },
   "file_extension": ".py",
   "mimetype": "text/x-python",
   "name": "python",
   "nbconvert_exporter": "python",
   "pygments_lexer": "ipython3",
   "version": "3.6.1"
  }
 },
 "nbformat": 4,
 "nbformat_minor": 2
}
